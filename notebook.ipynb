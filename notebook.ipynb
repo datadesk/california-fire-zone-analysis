{
 "cells": [
  {
   "cell_type": "markdown",
   "metadata": {},
   "source": [
    "# California fire zone analysis\n",
    "\n",
    "By [Ben Welsh](https://palewi.re/who-is-ben-welsh/)\n",
    "\n",
    "The Los Angeles Times conducted an analysis of California buildings within fire hazard zones for the Dec. 18, 2018, story [\"A million California buildings face wildfire risk. ‘Extraordinary steps’ are needed to protect them.\"](https://www.latimes.com/projects/la-me-california-buildings-in-fire-zones/)\n",
    "\n",
    "It found that at least 1.1 million structures, roughly 1 in 10 in the state, are within the highest risk zones. Here's how we did it."
   ]
  },
  {
   "cell_type": "markdown",
   "metadata": {},
   "source": [
    "### Configuration\n",
    "\n",
    "Set shared variables that will be used by all the notebooks in this repository."
   ]
  },
  {
   "cell_type": "code",
   "execution_count": 2,
   "metadata": {},
   "outputs": [],
   "source": [
    "import os\n",
    "import pandas as pd\n",
    "import altair as alt"
   ]
  },
  {
   "cell_type": "code",
   "execution_count": 56,
   "metadata": {},
   "outputs": [],
   "source": [
    "base_dir = os.getcwd()"
   ]
  },
  {
   "cell_type": "code",
   "execution_count": 4,
   "metadata": {},
   "outputs": [],
   "source": [
    "input_dir = os.path.join(base_dir, 'input')\n",
    "output_dir = os.path.join(base_dir, 'output')"
   ]
  },
  {
   "cell_type": "code",
   "execution_count": 5,
   "metadata": {},
   "outputs": [],
   "source": [
    "%%capture\n",
    "%store input_dir\n",
    "%store output_dir"
   ]
  },
  {
   "cell_type": "markdown",
   "metadata": {},
   "source": [
    "### Download building footprints\n",
    "\n",
    "Retrieve California building footprints mapped by Microsoft by running [download-buildings.ipynb](src/download-buildings.ipynb). Microsoft's list was compiled by a computer program that scours aerial and satellite photos. While it is among the most complete lists available, it is not comprehensive. According to a Microsoft expert who helped create the list, the database is believed to a slight undercount of the state's buildings."
   ]
  },
  {
   "cell_type": "code",
   "execution_count": 5,
   "metadata": {},
   "outputs": [],
   "source": [
    "%%capture\n",
    "%run src/download-buildings.ipynb "
   ]
  },
  {
   "cell_type": "markdown",
   "metadata": {},
   "source": [
    "### Tidy buildings\n",
    "\n",
    "Convert the Microsoft building footprints into centroid points by running [tidy-buildings.ipynb](src/tidy-buildings.ipynb)."
   ]
  },
  {
   "cell_type": "code",
   "execution_count": 6,
   "metadata": {},
   "outputs": [],
   "source": [
    "%%capture\n",
    "%run src/tidy-buildings.ipynb "
   ]
  },
  {
   "cell_type": "markdown",
   "metadata": {},
   "source": [
    "### Split buildings\n",
    "\n",
    "Break the building points into batches for processing by running [split-buildings.ipynb](src/split-buildings.ipynb)."
   ]
  },
  {
   "cell_type": "code",
   "execution_count": 7,
   "metadata": {},
   "outputs": [],
   "source": [
    "%%capture\n",
    "%run src/split-buildings.ipynb "
   ]
  },
  {
   "cell_type": "markdown",
   "metadata": {},
   "source": [
    "### Merge fire zones\n",
    "\n",
    "Join the buildings to \"very severe\" fire zones by running [merge-fire-zones.ipynb](src/merge-fire-zones.ipynb). The maps were drawn by scientists at the California Department of Forestry and Fire Protection in 2007 using a computerized model that considers terrain, vegetation and the location of past fires. Our methodology was vetted by an expert there."
   ]
  },
  {
   "cell_type": "code",
   "execution_count": 1,
   "metadata": {},
   "outputs": [],
   "source": [
    "%%capture\n",
    "%run src/merge-fire-zones.ipynb "
   ]
  },
  {
   "cell_type": "markdown",
   "metadata": {},
   "source": [
    "### Merge neighborhoods\n",
    "\n",
    "Join the buildings to neighborhoods defined by The Times' [Mapping L.A.](http://maps.latimes.com) project by running [merge-neighborhoods.ipynb](src/merge-neighborhoods.ipynb)."
   ]
  },
  {
   "cell_type": "code",
   "execution_count": 10,
   "metadata": {},
   "outputs": [],
   "source": [
    "%%capture\n",
    "%run src/merge-neighborhoods.ipynb "
   ]
  },
  {
   "cell_type": "markdown",
   "metadata": {},
   "source": [
    "### Combine merges\n",
    "\n",
    "Join all of the merges conducted above into a single file for analysis by running [combine-merges.ipynb](src/combine-merges.ipynb)."
   ]
  },
  {
   "cell_type": "code",
   "execution_count": 11,
   "metadata": {},
   "outputs": [],
   "source": [
    "%%capture\n",
    "%run src/combine-merges.ipynb "
   ]
  },
  {
   "cell_type": "markdown",
   "metadata": {},
   "source": [
    "### Run the analysis"
   ]
  },
  {
   "cell_type": "markdown",
   "metadata": {},
   "source": [
    "First some configuration"
   ]
  },
  {
   "cell_type": "code",
   "execution_count": 6,
   "metadata": {},
   "outputs": [],
   "source": [
    "intcomma = lambda x: print(f\"{x:,.0f}\")"
   ]
  },
  {
   "cell_type": "code",
   "execution_count": 7,
   "metadata": {},
   "outputs": [],
   "source": [
    "percent = lambda numerator, denominator: print(f\"{(numerator/denominator)*100:.1f}%\")"
   ]
  },
  {
   "cell_type": "markdown",
   "metadata": {},
   "source": [
    "Read in the prepared data."
   ]
  },
  {
   "cell_type": "code",
   "execution_count": 8,
   "metadata": {},
   "outputs": [],
   "source": [
    "points = pd.read_csv(os.path.join(output_dir, \"buildings-points-with-analysis.csv\"))"
   ]
  },
  {
   "cell_type": "markdown",
   "metadata": {},
   "source": [
    "How many buildings are in the state?"
   ]
  },
  {
   "cell_type": "code",
   "execution_count": 9,
   "metadata": {},
   "outputs": [
    {
     "name": "stdout",
     "output_type": "stream",
     "text": [
      "10,988,525\n"
     ]
    }
   ],
   "source": [
    "intcomma(len(points))"
   ]
  },
  {
   "cell_type": "markdown",
   "metadata": {},
   "source": [
    "How many buildings are in a \"very severe\" hazard zone?"
   ]
  },
  {
   "cell_type": "code",
   "execution_count": 10,
   "metadata": {},
   "outputs": [],
   "source": [
    "points['in_firezone'] = ~pd.isnull(points.fire_zone_type)"
   ]
  },
  {
   "cell_type": "code",
   "execution_count": 11,
   "metadata": {},
   "outputs": [],
   "source": [
    "in_firezone = points[points.in_firezone]"
   ]
  },
  {
   "cell_type": "code",
   "execution_count": 12,
   "metadata": {},
   "outputs": [
    {
     "name": "stdout",
     "output_type": "stream",
     "text": [
      "1,151,181\n"
     ]
    }
   ],
   "source": [
    "intcomma(len(in_firezone))"
   ]
  },
  {
   "cell_type": "markdown",
   "metadata": {},
   "source": [
    "What percentage is that?"
   ]
  },
  {
   "cell_type": "code",
   "execution_count": 13,
   "metadata": {},
   "outputs": [
    {
     "name": "stdout",
     "output_type": "stream",
     "text": [
      "10.5%\n"
     ]
    }
   ],
   "source": [
    "percent(len(in_firezone), len(points))"
   ]
  },
  {
   "cell_type": "markdown",
   "metadata": {},
   "source": [
    "What type of fire zone has more buildings?"
   ]
  },
  {
   "cell_type": "code",
   "execution_count": 14,
   "metadata": {},
   "outputs": [],
   "source": [
    "zonetype_counts = in_firezone.fire_zone_type.value_counts().reset_index()"
   ]
  },
  {
   "cell_type": "code",
   "execution_count": 15,
   "metadata": {},
   "outputs": [],
   "source": [
    "zonetype_counts.columns = [\"zonetype\", \"building_count\"]"
   ]
  },
  {
   "cell_type": "code",
   "execution_count": 16,
   "metadata": {},
   "outputs": [],
   "source": [
    "zonetype_counts['percent'] = zonetype_counts.building_count / zonetype_counts.building_count.sum()"
   ]
  },
  {
   "cell_type": "code",
   "execution_count": 17,
   "metadata": {},
   "outputs": [
    {
     "data": {
      "text/html": [
       "<div>\n",
       "<style scoped>\n",
       "    .dataframe tbody tr th:only-of-type {\n",
       "        vertical-align: middle;\n",
       "    }\n",
       "\n",
       "    .dataframe tbody tr th {\n",
       "        vertical-align: top;\n",
       "    }\n",
       "\n",
       "    .dataframe thead th {\n",
       "        text-align: right;\n",
       "    }\n",
       "</style>\n",
       "<table border=\"1\" class=\"dataframe\">\n",
       "  <thead>\n",
       "    <tr style=\"text-align: right;\">\n",
       "      <th></th>\n",
       "      <th>zonetype</th>\n",
       "      <th>building_count</th>\n",
       "      <th>percent</th>\n",
       "    </tr>\n",
       "  </thead>\n",
       "  <tbody>\n",
       "    <tr>\n",
       "      <th>0</th>\n",
       "      <td>LRA</td>\n",
       "      <td>669311</td>\n",
       "      <td>0.581412</td>\n",
       "    </tr>\n",
       "    <tr>\n",
       "      <th>1</th>\n",
       "      <td>SRA</td>\n",
       "      <td>481870</td>\n",
       "      <td>0.418588</td>\n",
       "    </tr>\n",
       "  </tbody>\n",
       "</table>\n",
       "</div>"
      ],
      "text/plain": [
       "  zonetype  building_count   percent\n",
       "0      LRA          669311  0.581412\n",
       "1      SRA          481870  0.418588"
      ]
     },
     "execution_count": 17,
     "metadata": {},
     "output_type": "execute_result"
    }
   ],
   "source": [
    "zonetype_counts"
   ]
  },
  {
   "cell_type": "code",
   "execution_count": 18,
   "metadata": {},
   "outputs": [
    {
     "data": {
      "application/vnd.vegalite.v2+json": {
       "$schema": "https://vega.github.io/schema/vega-lite/v2.6.0.json",
       "config": {
        "view": {
         "height": 300,
         "width": 400
        }
       },
       "data": {
        "name": "data-07e61d85cea6aa61367952993c571cbd"
       },
       "datasets": {
        "data-07e61d85cea6aa61367952993c571cbd": [
         {
          "building_count": 669311,
          "percent": 0.5814124798793586,
          "zonetype": "LRA"
         },
         {
          "building_count": 481870,
          "percent": 0.4185875201206413,
          "zonetype": "SRA"
         }
        ]
       },
       "encoding": {
        "color": {
         "field": "zonetype",
         "type": "nominal"
        },
        "x": {
         "field": "building_count",
         "type": "quantitative"
        },
        "y": {
         "field": "zonetype",
         "type": "nominal"
        }
       },
       "mark": "bar"
      },
      "image/png": "[encoded data removed]",
      "text/plain": [
       "<VegaLite 2 object>\n",
       "\n",
       "If you see this message, it means the renderer has not been properly enabled\n",
       "for the frontend that you are using. For more information, see\n",
       "https://altair-viz.github.io/user_guide/troubleshooting.html\n"
      ]
     },
     "execution_count": 18,
     "metadata": {},
     "output_type": "execute_result"
    }
   ],
   "source": [
    "alt.Chart(zonetype_counts).mark_bar().encode(\n",
    "    x=\"building_count:Q\",\n",
    "    y=\"zonetype:N\",\n",
    "    color=\"zonetype:N\"\n",
    ")"
   ]
  },
  {
   "cell_type": "markdown",
   "metadata": {},
   "source": [
    "What Census defined places have the most buildings in fires zones?"
   ]
  },
  {
   "cell_type": "code",
   "execution_count": 40,
   "metadata": {},
   "outputs": [],
   "source": [
    "def crosstab_boolean(df, by_field, bool_field):\n",
    "    \"\"\"\n",
    "    Generate a crosstab that analyzes a boolean field.\n",
    "    \"\"\"\n",
    "    # Group on the index field and count frequencies of the boolean field. \n",
    "    counts = df.groupby([\n",
    "        by_field,\n",
    "        bool_field\n",
    "    ]).size().rename(\"building_count\").reset_index()\n",
    "    \n",
    "    # Flip the result into a crosstab\n",
    "    pivot = counts.pivot(\n",
    "        index=by_field,\n",
    "        columns=bool_field,\n",
    "        values=\"building_count\"\n",
    "    ).fillna(0).reset_index()\n",
    "    \n",
    "    # Calculate total\n",
    "    pivot['total'] = pivot[True] + pivot[False]\n",
    "    \n",
    "    # Calculate percentages\n",
    "    pivot[f'{bool_field}_percent'] = round((pivot[True] / pivot['total'])*100, 2)\n",
    "\n",
    "    # Clean up the column names\n",
    "    cleaned = pivot.rename(columns={\n",
    "        False: f\"not_{bool_field}\",\n",
    "        True: bool_field\n",
    "    })\n",
    "    \n",
    "    # Return the result\n",
    "    return cleaned.set_index(by_field)"
   ]
  },
  {
   "cell_type": "code",
   "execution_count": 41,
   "metadata": {},
   "outputs": [],
   "source": [
    "place_pivot = crosstab_boolean(points, \"place_name\", \"in_firezone\")"
   ]
  },
  {
   "cell_type": "code",
   "execution_count": 42,
   "metadata": {},
   "outputs": [],
   "source": [
    "top_places = place_pivot.sort_values(\"in_firezone\", ascending=False).head(20)"
   ]
  },
  {
   "cell_type": "code",
   "execution_count": 43,
   "metadata": {},
   "outputs": [
    {
     "data": {
      "text/html": [
       "<div>\n",
       "<style scoped>\n",
       "    .dataframe tbody tr th:only-of-type {\n",
       "        vertical-align: middle;\n",
       "    }\n",
       "\n",
       "    .dataframe tbody tr th {\n",
       "        vertical-align: top;\n",
       "    }\n",
       "\n",
       "    .dataframe thead th {\n",
       "        text-align: right;\n",
       "    }\n",
       "</style>\n",
       "<table border=\"1\" class=\"dataframe\">\n",
       "  <thead>\n",
       "    <tr style=\"text-align: right;\">\n",
       "      <th>in_firezone</th>\n",
       "      <th>not_in_firezone</th>\n",
       "      <th>in_firezone</th>\n",
       "      <th>total</th>\n",
       "      <th>in_firezone_percent</th>\n",
       "    </tr>\n",
       "    <tr>\n",
       "      <th>place_name</th>\n",
       "      <th></th>\n",
       "      <th></th>\n",
       "      <th></th>\n",
       "      <th></th>\n",
       "    </tr>\n",
       "  </thead>\n",
       "  <tbody>\n",
       "    <tr>\n",
       "      <th>Los Angeles city</th>\n",
       "      <td>666442.0</td>\n",
       "      <td>114355.0</td>\n",
       "      <td>780797.0</td>\n",
       "      <td>14.65</td>\n",
       "    </tr>\n",
       "    <tr>\n",
       "      <th>San Diego city</th>\n",
       "      <td>224153.0</td>\n",
       "      <td>88724.0</td>\n",
       "      <td>312877.0</td>\n",
       "      <td>28.36</td>\n",
       "    </tr>\n",
       "    <tr>\n",
       "      <th>Santa Clarita city</th>\n",
       "      <td>33712.0</td>\n",
       "      <td>18206.0</td>\n",
       "      <td>51918.0</td>\n",
       "      <td>35.07</td>\n",
       "    </tr>\n",
       "    <tr>\n",
       "      <th>Thousand Oaks city</th>\n",
       "      <td>20899.0</td>\n",
       "      <td>17062.0</td>\n",
       "      <td>37961.0</td>\n",
       "      <td>44.95</td>\n",
       "    </tr>\n",
       "    <tr>\n",
       "      <th>Rancho Palos Verdes city</th>\n",
       "      <td>356.0</td>\n",
       "      <td>13519.0</td>\n",
       "      <td>13875.0</td>\n",
       "      <td>97.43</td>\n",
       "    </tr>\n",
       "    <tr>\n",
       "      <th>Oakland city</th>\n",
       "      <td>74663.0</td>\n",
       "      <td>12186.0</td>\n",
       "      <td>86849.0</td>\n",
       "      <td>14.03</td>\n",
       "    </tr>\n",
       "    <tr>\n",
       "      <th>Glendale city</th>\n",
       "      <td>27580.0</td>\n",
       "      <td>11870.0</td>\n",
       "      <td>39450.0</td>\n",
       "      <td>30.09</td>\n",
       "    </tr>\n",
       "    <tr>\n",
       "      <th>Paradise town</th>\n",
       "      <td>149.0</td>\n",
       "      <td>11703.0</td>\n",
       "      <td>11852.0</td>\n",
       "      <td>98.74</td>\n",
       "    </tr>\n",
       "    <tr>\n",
       "      <th>Big Bear City CDP</th>\n",
       "      <td>1229.0</td>\n",
       "      <td>10908.0</td>\n",
       "      <td>12137.0</td>\n",
       "      <td>89.87</td>\n",
       "    </tr>\n",
       "    <tr>\n",
       "      <th>Simi Valley city</th>\n",
       "      <td>26399.0</td>\n",
       "      <td>10432.0</td>\n",
       "      <td>36831.0</td>\n",
       "      <td>28.32</td>\n",
       "    </tr>\n",
       "    <tr>\n",
       "      <th>Lake Arrowhead CDP</th>\n",
       "      <td>129.0</td>\n",
       "      <td>9875.0</td>\n",
       "      <td>10004.0</td>\n",
       "      <td>98.71</td>\n",
       "    </tr>\n",
       "    <tr>\n",
       "      <th>Truckee town</th>\n",
       "      <td>3083.0</td>\n",
       "      <td>8555.0</td>\n",
       "      <td>11638.0</td>\n",
       "      <td>73.51</td>\n",
       "    </tr>\n",
       "    <tr>\n",
       "      <th>Murrieta city</th>\n",
       "      <td>22975.0</td>\n",
       "      <td>7946.0</td>\n",
       "      <td>30921.0</td>\n",
       "      <td>25.70</td>\n",
       "    </tr>\n",
       "    <tr>\n",
       "      <th>Redding city</th>\n",
       "      <td>27432.0</td>\n",
       "      <td>7676.0</td>\n",
       "      <td>35108.0</td>\n",
       "      <td>21.86</td>\n",
       "    </tr>\n",
       "    <tr>\n",
       "      <th>Laguna Beach city</th>\n",
       "      <td>3047.0</td>\n",
       "      <td>7314.0</td>\n",
       "      <td>10361.0</td>\n",
       "      <td>70.59</td>\n",
       "    </tr>\n",
       "    <tr>\n",
       "      <th>Big Bear Lake city</th>\n",
       "      <td>796.0</td>\n",
       "      <td>7273.0</td>\n",
       "      <td>8069.0</td>\n",
       "      <td>90.14</td>\n",
       "    </tr>\n",
       "    <tr>\n",
       "      <th>La CaÃ±ada Flintridge city</th>\n",
       "      <td>0.0</td>\n",
       "      <td>7179.0</td>\n",
       "      <td>7179.0</td>\n",
       "      <td>100.00</td>\n",
       "    </tr>\n",
       "    <tr>\n",
       "      <th>South Lake Tahoe city</th>\n",
       "      <td>890.0</td>\n",
       "      <td>7057.0</td>\n",
       "      <td>7947.0</td>\n",
       "      <td>88.80</td>\n",
       "    </tr>\n",
       "    <tr>\n",
       "      <th>Calabasas city</th>\n",
       "      <td>2.0</td>\n",
       "      <td>6964.0</td>\n",
       "      <td>6966.0</td>\n",
       "      <td>99.97</td>\n",
       "    </tr>\n",
       "    <tr>\n",
       "      <th>Lake Elsinore city</th>\n",
       "      <td>9887.0</td>\n",
       "      <td>6921.0</td>\n",
       "      <td>16808.0</td>\n",
       "      <td>41.18</td>\n",
       "    </tr>\n",
       "  </tbody>\n",
       "</table>\n",
       "</div>"
      ],
      "text/plain": [
       "in_firezone                 not_in_firezone  in_firezone     total  \\\n",
       "place_name                                                           \n",
       "Los Angeles city                   666442.0     114355.0  780797.0   \n",
       "San Diego city                     224153.0      88724.0  312877.0   \n",
       "Santa Clarita city                  33712.0      18206.0   51918.0   \n",
       "Thousand Oaks city                  20899.0      17062.0   37961.0   \n",
       "Rancho Palos Verdes city              356.0      13519.0   13875.0   \n",
       "Oakland city                        74663.0      12186.0   86849.0   \n",
       "Glendale city                       27580.0      11870.0   39450.0   \n",
       "Paradise town                         149.0      11703.0   11852.0   \n",
       "Big Bear City CDP                    1229.0      10908.0   12137.0   \n",
       "Simi Valley city                    26399.0      10432.0   36831.0   \n",
       "Lake Arrowhead CDP                    129.0       9875.0   10004.0   \n",
       "Truckee town                         3083.0       8555.0   11638.0   \n",
       "Murrieta city                       22975.0       7946.0   30921.0   \n",
       "Redding city                        27432.0       7676.0   35108.0   \n",
       "Laguna Beach city                    3047.0       7314.0   10361.0   \n",
       "Big Bear Lake city                    796.0       7273.0    8069.0   \n",
       "La CaÃ±ada Flintridge city              0.0       7179.0    7179.0   \n",
       "South Lake Tahoe city                 890.0       7057.0    7947.0   \n",
       "Calabasas city                          2.0       6964.0    6966.0   \n",
       "Lake Elsinore city                   9887.0       6921.0   16808.0   \n",
       "\n",
       "in_firezone                 in_firezone_percent  \n",
       "place_name                                       \n",
       "Los Angeles city                          14.65  \n",
       "San Diego city                            28.36  \n",
       "Santa Clarita city                        35.07  \n",
       "Thousand Oaks city                        44.95  \n",
       "Rancho Palos Verdes city                  97.43  \n",
       "Oakland city                              14.03  \n",
       "Glendale city                             30.09  \n",
       "Paradise town                             98.74  \n",
       "Big Bear City CDP                         89.87  \n",
       "Simi Valley city                          28.32  \n",
       "Lake Arrowhead CDP                        98.71  \n",
       "Truckee town                              73.51  \n",
       "Murrieta city                             25.70  \n",
       "Redding city                              21.86  \n",
       "Laguna Beach city                         70.59  \n",
       "Big Bear Lake city                        90.14  \n",
       "La CaÃ±ada Flintridge city               100.00  \n",
       "South Lake Tahoe city                     88.80  \n",
       "Calabasas city                            99.97  \n",
       "Lake Elsinore city                        41.18  "
      ]
     },
     "execution_count": 43,
     "metadata": {},
     "output_type": "execute_result"
    }
   ],
   "source": [
    "top_places"
   ]
  },
  {
   "cell_type": "code",
   "execution_count": 44,
   "metadata": {},
   "outputs": [
    {
     "data": {
      "application/vnd.vegalite.v2+json": {
       "$schema": "https://vega.github.io/schema/vega-lite/v2.6.0.json",
       "config": {
        "view": {
         "height": 300,
         "width": 400
        }
       },
       "data": {
        "name": "data-ff8832ec819cb03c87a936663313c5ef"
       },
       "datasets": {
        "data-ff8832ec819cb03c87a936663313c5ef": [
         {
          "in_firezone": 114355,
          "in_firezone_percent": 14.65,
          "not_in_firezone": 666442,
          "place_name": "Los Angeles city",
          "total": 780797
         },
         {
          "in_firezone": 88724,
          "in_firezone_percent": 28.36,
          "not_in_firezone": 224153,
          "place_name": "San Diego city",
          "total": 312877
         },
         {
          "in_firezone": 18206,
          "in_firezone_percent": 35.07,
          "not_in_firezone": 33712,
          "place_name": "Santa Clarita city",
          "total": 51918
         },
         {
          "in_firezone": 17062,
          "in_firezone_percent": 44.95,
          "not_in_firezone": 20899,
          "place_name": "Thousand Oaks city",
          "total": 37961
         },
         {
          "in_firezone": 13519,
          "in_firezone_percent": 97.43,
          "not_in_firezone": 356,
          "place_name": "Rancho Palos Verdes city",
          "total": 13875
         },
         {
          "in_firezone": 12186,
          "in_firezone_percent": 14.03,
          "not_in_firezone": 74663,
          "place_name": "Oakland city",
          "total": 86849
         },
         {
          "in_firezone": 11870,
          "in_firezone_percent": 30.09,
          "not_in_firezone": 27580,
          "place_name": "Glendale city",
          "total": 39450
         },
         {
          "in_firezone": 11703,
          "in_firezone_percent": 98.74,
          "not_in_firezone": 149,
          "place_name": "Paradise town",
          "total": 11852
         },
         {
          "in_firezone": 10908,
          "in_firezone_percent": 89.87,
          "not_in_firezone": 1229,
          "place_name": "Big Bear City CDP",
          "total": 12137
         },
         {
          "in_firezone": 10432,
          "in_firezone_percent": 28.32,
          "not_in_firezone": 26399,
          "place_name": "Simi Valley city",
          "total": 36831
         },
         {
          "in_firezone": 9875,
          "in_firezone_percent": 98.71,
          "not_in_firezone": 129,
          "place_name": "Lake Arrowhead CDP",
          "total": 10004
         },
         {
          "in_firezone": 8555,
          "in_firezone_percent": 73.51,
          "not_in_firezone": 3083,
          "place_name": "Truckee town",
          "total": 11638
         },
         {
          "in_firezone": 7946,
          "in_firezone_percent": 25.7,
          "not_in_firezone": 22975,
          "place_name": "Murrieta city",
          "total": 30921
         },
         {
          "in_firezone": 7676,
          "in_firezone_percent": 21.86,
          "not_in_firezone": 27432,
          "place_name": "Redding city",
          "total": 35108
         },
         {
          "in_firezone": 7314,
          "in_firezone_percent": 70.59,
          "not_in_firezone": 3047,
          "place_name": "Laguna Beach city",
          "total": 10361
         },
         {
          "in_firezone": 7273,
          "in_firezone_percent": 90.14,
          "not_in_firezone": 796,
          "place_name": "Big Bear Lake city",
          "total": 8069
         },
         {
          "in_firezone": 7179,
          "in_firezone_percent": 100,
          "not_in_firezone": 0,
          "place_name": "La CaÃ±ada Flintridge city",
          "total": 7179
         },
         {
          "in_firezone": 7057,
          "in_firezone_percent": 88.8,
          "not_in_firezone": 890,
          "place_name": "South Lake Tahoe city",
          "total": 7947
         },
         {
          "in_firezone": 6964,
          "in_firezone_percent": 99.97,
          "not_in_firezone": 2,
          "place_name": "Calabasas city",
          "total": 6966
         },
         {
          "in_firezone": 6921,
          "in_firezone_percent": 41.18,
          "not_in_firezone": 9887,
          "place_name": "Lake Elsinore city",
          "total": 16808
         }
        ]
       },
       "encoding": {
        "x": {
         "field": "in_firezone",
         "type": "quantitative"
        },
        "y": {
         "field": "place_name",
         "sort": {
          "field": "in_firezone",
          "op": "sum",
          "order": "descending"
         },
         "type": "nominal"
        }
       },
       "mark": "bar"
      },
      "image/png": "[encoded data removed]",
      "text/plain": [
       "<VegaLite 2 object>\n",
       "\n",
       "If you see this message, it means the renderer has not been properly enabled\n",
       "for the frontend that you are using. For more information, see\n",
       "https://altair-viz.github.io/user_guide/troubleshooting.html\n"
      ]
     },
     "execution_count": 44,
     "metadata": {},
     "output_type": "execute_result"
    }
   ],
   "source": [
    "alt.Chart(top_places.reset_index()).mark_bar().encode(\n",
    "    x=\"in_firezone:Q\",\n",
    "    y=alt.Y(\n",
    "        \"place_name:N\",\n",
    "        sort=alt.EncodingSortField(field=\"in_firezone\", op=\"sum\", order=\"descending\")\n",
    "    )\n",
    ")"
   ]
  },
  {
   "cell_type": "markdown",
   "metadata": {},
   "source": [
    "How many cities have more than 90% of the buildings in the \"very severe\" zones?"
   ]
  },
  {
   "cell_type": "code",
   "execution_count": 45,
   "metadata": {},
   "outputs": [],
   "source": [
    "very_high_places = place_pivot[place_pivot.in_firezone_percent >= 90]"
   ]
  },
  {
   "cell_type": "code",
   "execution_count": 46,
   "metadata": {},
   "outputs": [
    {
     "name": "stdout",
     "output_type": "stream",
     "text": [
      "174\n"
     ]
    }
   ],
   "source": [
    "intcomma(len(very_high_places))"
   ]
  },
  {
   "cell_type": "markdown",
   "metadata": {},
   "source": [
    "Are Paradise, Malibu and Topanga in this group?"
   ]
  },
  {
   "cell_type": "code",
   "execution_count": 47,
   "metadata": {},
   "outputs": [
    {
     "data": {
      "text/html": [
       "<div>\n",
       "<style scoped>\n",
       "    .dataframe tbody tr th:only-of-type {\n",
       "        vertical-align: middle;\n",
       "    }\n",
       "\n",
       "    .dataframe tbody tr th {\n",
       "        vertical-align: top;\n",
       "    }\n",
       "\n",
       "    .dataframe thead th {\n",
       "        text-align: right;\n",
       "    }\n",
       "</style>\n",
       "<table border=\"1\" class=\"dataframe\">\n",
       "  <thead>\n",
       "    <tr style=\"text-align: right;\">\n",
       "      <th>in_firezone</th>\n",
       "      <th>place_name</th>\n",
       "      <th>not_in_firezone</th>\n",
       "      <th>in_firezone</th>\n",
       "      <th>total</th>\n",
       "      <th>in_firezone_percent</th>\n",
       "    </tr>\n",
       "  </thead>\n",
       "  <tbody>\n",
       "    <tr>\n",
       "      <th>102</th>\n",
       "      <td>Malibu city</td>\n",
       "      <td>4.0</td>\n",
       "      <td>5963.0</td>\n",
       "      <td>5967.0</td>\n",
       "      <td>99.93</td>\n",
       "    </tr>\n",
       "    <tr>\n",
       "      <th>118</th>\n",
       "      <td>Paradise town</td>\n",
       "      <td>149.0</td>\n",
       "      <td>11703.0</td>\n",
       "      <td>11852.0</td>\n",
       "      <td>98.74</td>\n",
       "    </tr>\n",
       "    <tr>\n",
       "      <th>160</th>\n",
       "      <td>Topanga CDP</td>\n",
       "      <td>0.0</td>\n",
       "      <td>3574.0</td>\n",
       "      <td>3574.0</td>\n",
       "      <td>100.00</td>\n",
       "    </tr>\n",
       "  </tbody>\n",
       "</table>\n",
       "</div>"
      ],
      "text/plain": [
       "in_firezone     place_name  not_in_firezone  in_firezone    total  \\\n",
       "102            Malibu city              4.0       5963.0   5967.0   \n",
       "118          Paradise town            149.0      11703.0  11852.0   \n",
       "160            Topanga CDP              0.0       3574.0   3574.0   \n",
       "\n",
       "in_firezone  in_firezone_percent  \n",
       "102                        99.93  \n",
       "118                        98.74  \n",
       "160                       100.00  "
      ]
     },
     "execution_count": 47,
     "metadata": {},
     "output_type": "execute_result"
    }
   ],
   "source": [
    "very_high_places.reset_index()[\n",
    "    very_high_places.reset_index().place_name.isin([\n",
    "        'Paradise town',\n",
    "        'Malibu city',\n",
    "        'Topanga CDP'\n",
    "    ])\n",
    "]"
   ]
  },
  {
   "cell_type": "markdown",
   "metadata": {},
   "source": [
    "What Los Angeles neighborhoods have the most buildings \"very severe\" zones?"
   ]
  },
  {
   "cell_type": "code",
   "execution_count": 48,
   "metadata": {},
   "outputs": [],
   "source": [
    "hood_pivot = crosstab_boolean(points, \"neighborhood\", \"in_firezone\")"
   ]
  },
  {
   "cell_type": "code",
   "execution_count": 49,
   "metadata": {},
   "outputs": [],
   "source": [
    "top_hoods = hood_pivot.sort_values(\"in_firezone\", ascending=False).head(20)"
   ]
  },
  {
   "cell_type": "code",
   "execution_count": 50,
   "metadata": {},
   "outputs": [
    {
     "data": {
      "text/html": [
       "<div>\n",
       "<style scoped>\n",
       "    .dataframe tbody tr th:only-of-type {\n",
       "        vertical-align: middle;\n",
       "    }\n",
       "\n",
       "    .dataframe tbody tr th {\n",
       "        vertical-align: top;\n",
       "    }\n",
       "\n",
       "    .dataframe thead th {\n",
       "        text-align: right;\n",
       "    }\n",
       "</style>\n",
       "<table border=\"1\" class=\"dataframe\">\n",
       "  <thead>\n",
       "    <tr style=\"text-align: right;\">\n",
       "      <th>in_firezone</th>\n",
       "      <th>not_in_firezone</th>\n",
       "      <th>in_firezone</th>\n",
       "      <th>total</th>\n",
       "      <th>in_firezone_percent</th>\n",
       "    </tr>\n",
       "    <tr>\n",
       "      <th>neighborhood</th>\n",
       "      <th></th>\n",
       "      <th></th>\n",
       "      <th></th>\n",
       "      <th></th>\n",
       "    </tr>\n",
       "  </thead>\n",
       "  <tbody>\n",
       "    <tr>\n",
       "      <th>Pacific Palisades</th>\n",
       "      <td>0.0</td>\n",
       "      <td>9303.0</td>\n",
       "      <td>9303.0</td>\n",
       "      <td>100.00</td>\n",
       "    </tr>\n",
       "    <tr>\n",
       "      <th>Hollywood Hills</th>\n",
       "      <td>226.0</td>\n",
       "      <td>6096.0</td>\n",
       "      <td>6322.0</td>\n",
       "      <td>96.43</td>\n",
       "    </tr>\n",
       "    <tr>\n",
       "      <th>Hollywood Hills West</th>\n",
       "      <td>65.0</td>\n",
       "      <td>5826.0</td>\n",
       "      <td>5891.0</td>\n",
       "      <td>98.90</td>\n",
       "    </tr>\n",
       "    <tr>\n",
       "      <th>Silver Lake</th>\n",
       "      <td>2794.0</td>\n",
       "      <td>5114.0</td>\n",
       "      <td>7908.0</td>\n",
       "      <td>64.67</td>\n",
       "    </tr>\n",
       "    <tr>\n",
       "      <th>Shadow Hills</th>\n",
       "      <td>915.0</td>\n",
       "      <td>5049.0</td>\n",
       "      <td>5964.0</td>\n",
       "      <td>84.66</td>\n",
       "    </tr>\n",
       "    <tr>\n",
       "      <th>Beverly Crest</th>\n",
       "      <td>6.0</td>\n",
       "      <td>4915.0</td>\n",
       "      <td>4921.0</td>\n",
       "      <td>99.88</td>\n",
       "    </tr>\n",
       "    <tr>\n",
       "      <th>Eagle Rock</th>\n",
       "      <td>5183.0</td>\n",
       "      <td>4836.0</td>\n",
       "      <td>10019.0</td>\n",
       "      <td>48.27</td>\n",
       "    </tr>\n",
       "    <tr>\n",
       "      <th>Brentwood</th>\n",
       "      <td>3583.0</td>\n",
       "      <td>4813.0</td>\n",
       "      <td>8396.0</td>\n",
       "      <td>57.32</td>\n",
       "    </tr>\n",
       "    <tr>\n",
       "      <th>Sherman Oaks</th>\n",
       "      <td>11855.0</td>\n",
       "      <td>4497.0</td>\n",
       "      <td>16352.0</td>\n",
       "      <td>27.50</td>\n",
       "    </tr>\n",
       "    <tr>\n",
       "      <th>Highland Park</th>\n",
       "      <td>7153.0</td>\n",
       "      <td>4343.0</td>\n",
       "      <td>11496.0</td>\n",
       "      <td>37.78</td>\n",
       "    </tr>\n",
       "    <tr>\n",
       "      <th>Mount Washington</th>\n",
       "      <td>0.0</td>\n",
       "      <td>4342.0</td>\n",
       "      <td>4342.0</td>\n",
       "      <td>100.00</td>\n",
       "    </tr>\n",
       "    <tr>\n",
       "      <th>Studio City</th>\n",
       "      <td>5617.0</td>\n",
       "      <td>4337.0</td>\n",
       "      <td>9954.0</td>\n",
       "      <td>43.57</td>\n",
       "    </tr>\n",
       "    <tr>\n",
       "      <th>Encino</th>\n",
       "      <td>8424.0</td>\n",
       "      <td>4277.0</td>\n",
       "      <td>12701.0</td>\n",
       "      <td>33.67</td>\n",
       "    </tr>\n",
       "    <tr>\n",
       "      <th>El Sereno</th>\n",
       "      <td>6046.0</td>\n",
       "      <td>4172.0</td>\n",
       "      <td>10218.0</td>\n",
       "      <td>40.83</td>\n",
       "    </tr>\n",
       "    <tr>\n",
       "      <th>Los Feliz</th>\n",
       "      <td>3030.0</td>\n",
       "      <td>4015.0</td>\n",
       "      <td>7045.0</td>\n",
       "      <td>56.99</td>\n",
       "    </tr>\n",
       "    <tr>\n",
       "      <th>Montecito Heights</th>\n",
       "      <td>15.0</td>\n",
       "      <td>3612.0</td>\n",
       "      <td>3627.0</td>\n",
       "      <td>99.59</td>\n",
       "    </tr>\n",
       "    <tr>\n",
       "      <th>Tujunga</th>\n",
       "      <td>4397.0</td>\n",
       "      <td>3489.0</td>\n",
       "      <td>7886.0</td>\n",
       "      <td>44.24</td>\n",
       "    </tr>\n",
       "    <tr>\n",
       "      <th>Chatsworth</th>\n",
       "      <td>9164.0</td>\n",
       "      <td>3399.0</td>\n",
       "      <td>12563.0</td>\n",
       "      <td>27.06</td>\n",
       "    </tr>\n",
       "    <tr>\n",
       "      <th>Bel-Air</th>\n",
       "      <td>0.0</td>\n",
       "      <td>3364.0</td>\n",
       "      <td>3364.0</td>\n",
       "      <td>100.00</td>\n",
       "    </tr>\n",
       "    <tr>\n",
       "      <th>Porter Ranch</th>\n",
       "      <td>5144.0</td>\n",
       "      <td>3286.0</td>\n",
       "      <td>8430.0</td>\n",
       "      <td>38.98</td>\n",
       "    </tr>\n",
       "  </tbody>\n",
       "</table>\n",
       "</div>"
      ],
      "text/plain": [
       "in_firezone           not_in_firezone  in_firezone    total  \\\n",
       "neighborhood                                                  \n",
       "Pacific Palisades                 0.0       9303.0   9303.0   \n",
       "Hollywood Hills                 226.0       6096.0   6322.0   \n",
       "Hollywood Hills West             65.0       5826.0   5891.0   \n",
       "Silver Lake                    2794.0       5114.0   7908.0   \n",
       "Shadow Hills                    915.0       5049.0   5964.0   \n",
       "Beverly Crest                     6.0       4915.0   4921.0   \n",
       "Eagle Rock                     5183.0       4836.0  10019.0   \n",
       "Brentwood                      3583.0       4813.0   8396.0   \n",
       "Sherman Oaks                  11855.0       4497.0  16352.0   \n",
       "Highland Park                  7153.0       4343.0  11496.0   \n",
       "Mount Washington                  0.0       4342.0   4342.0   \n",
       "Studio City                    5617.0       4337.0   9954.0   \n",
       "Encino                         8424.0       4277.0  12701.0   \n",
       "El Sereno                      6046.0       4172.0  10218.0   \n",
       "Los Feliz                      3030.0       4015.0   7045.0   \n",
       "Montecito Heights                15.0       3612.0   3627.0   \n",
       "Tujunga                        4397.0       3489.0   7886.0   \n",
       "Chatsworth                     9164.0       3399.0  12563.0   \n",
       "Bel-Air                           0.0       3364.0   3364.0   \n",
       "Porter Ranch                   5144.0       3286.0   8430.0   \n",
       "\n",
       "in_firezone           in_firezone_percent  \n",
       "neighborhood                               \n",
       "Pacific Palisades                  100.00  \n",
       "Hollywood Hills                     96.43  \n",
       "Hollywood Hills West                98.90  \n",
       "Silver Lake                         64.67  \n",
       "Shadow Hills                        84.66  \n",
       "Beverly Crest                       99.88  \n",
       "Eagle Rock                          48.27  \n",
       "Brentwood                           57.32  \n",
       "Sherman Oaks                        27.50  \n",
       "Highland Park                       37.78  \n",
       "Mount Washington                   100.00  \n",
       "Studio City                         43.57  \n",
       "Encino                              33.67  \n",
       "El Sereno                           40.83  \n",
       "Los Feliz                           56.99  \n",
       "Montecito Heights                   99.59  \n",
       "Tujunga                             44.24  \n",
       "Chatsworth                          27.06  \n",
       "Bel-Air                            100.00  \n",
       "Porter Ranch                        38.98  "
      ]
     },
     "execution_count": 50,
     "metadata": {},
     "output_type": "execute_result"
    }
   ],
   "source": [
    "top_hoods"
   ]
  },
  {
   "cell_type": "code",
   "execution_count": 51,
   "metadata": {},
   "outputs": [
    {
     "data": {
      "application/vnd.vegalite.v2+json": {
       "$schema": "https://vega.github.io/schema/vega-lite/v2.6.0.json",
       "config": {
        "view": {
         "height": 300,
         "width": 400
        }
       },
       "data": {
        "name": "data-2db9fde95f2aff870c5ea918725caba8"
       },
       "datasets": {
        "data-2db9fde95f2aff870c5ea918725caba8": [
         {
          "in_firezone": 9303,
          "in_firezone_percent": 100,
          "neighborhood": "Pacific Palisades",
          "not_in_firezone": 0,
          "total": 9303
         },
         {
          "in_firezone": 6096,
          "in_firezone_percent": 96.43,
          "neighborhood": "Hollywood Hills",
          "not_in_firezone": 226,
          "total": 6322
         },
         {
          "in_firezone": 5826,
          "in_firezone_percent": 98.9,
          "neighborhood": "Hollywood Hills West",
          "not_in_firezone": 65,
          "total": 5891
         },
         {
          "in_firezone": 5114,
          "in_firezone_percent": 64.67,
          "neighborhood": "Silver Lake",
          "not_in_firezone": 2794,
          "total": 7908
         },
         {
          "in_firezone": 5049,
          "in_firezone_percent": 84.66,
          "neighborhood": "Shadow Hills",
          "not_in_firezone": 915,
          "total": 5964
         },
         {
          "in_firezone": 4915,
          "in_firezone_percent": 99.88,
          "neighborhood": "Beverly Crest",
          "not_in_firezone": 6,
          "total": 4921
         },
         {
          "in_firezone": 4836,
          "in_firezone_percent": 48.27,
          "neighborhood": "Eagle Rock",
          "not_in_firezone": 5183,
          "total": 10019
         },
         {
          "in_firezone": 4813,
          "in_firezone_percent": 57.32,
          "neighborhood": "Brentwood",
          "not_in_firezone": 3583,
          "total": 8396
         },
         {
          "in_firezone": 4497,
          "in_firezone_percent": 27.5,
          "neighborhood": "Sherman Oaks",
          "not_in_firezone": 11855,
          "total": 16352
         },
         {
          "in_firezone": 4343,
          "in_firezone_percent": 37.78,
          "neighborhood": "Highland Park",
          "not_in_firezone": 7153,
          "total": 11496
         },
         {
          "in_firezone": 4342,
          "in_firezone_percent": 100,
          "neighborhood": "Mount Washington",
          "not_in_firezone": 0,
          "total": 4342
         },
         {
          "in_firezone": 4337,
          "in_firezone_percent": 43.57,
          "neighborhood": "Studio City",
          "not_in_firezone": 5617,
          "total": 9954
         },
         {
          "in_firezone": 4277,
          "in_firezone_percent": 33.67,
          "neighborhood": "Encino",
          "not_in_firezone": 8424,
          "total": 12701
         },
         {
          "in_firezone": 4172,
          "in_firezone_percent": 40.83,
          "neighborhood": "El Sereno",
          "not_in_firezone": 6046,
          "total": 10218
         },
         {
          "in_firezone": 4015,
          "in_firezone_percent": 56.99,
          "neighborhood": "Los Feliz",
          "not_in_firezone": 3030,
          "total": 7045
         },
         {
          "in_firezone": 3612,
          "in_firezone_percent": 99.59,
          "neighborhood": "Montecito Heights",
          "not_in_firezone": 15,
          "total": 3627
         },
         {
          "in_firezone": 3489,
          "in_firezone_percent": 44.24,
          "neighborhood": "Tujunga",
          "not_in_firezone": 4397,
          "total": 7886
         },
         {
          "in_firezone": 3399,
          "in_firezone_percent": 27.06,
          "neighborhood": "Chatsworth",
          "not_in_firezone": 9164,
          "total": 12563
         },
         {
          "in_firezone": 3364,
          "in_firezone_percent": 100,
          "neighborhood": "Bel-Air",
          "not_in_firezone": 0,
          "total": 3364
         },
         {
          "in_firezone": 3286,
          "in_firezone_percent": 38.98,
          "neighborhood": "Porter Ranch",
          "not_in_firezone": 5144,
          "total": 8430
         }
        ]
       },
       "encoding": {
        "x": {
         "field": "in_firezone",
         "type": "quantitative"
        },
        "y": {
         "field": "neighborhood",
         "sort": {
          "field": "in_firezone",
          "op": "sum",
          "order": "descending"
         },
         "type": "nominal"
        }
       },
       "mark": "bar"
      },
      "image/png": "[encoded data removed]",
      "text/plain": [
       "<VegaLite 2 object>\n",
       "\n",
       "If you see this message, it means the renderer has not been properly enabled\n",
       "for the frontend that you are using. For more information, see\n",
       "https://altair-viz.github.io/user_guide/troubleshooting.html\n"
      ]
     },
     "execution_count": 51,
     "metadata": {},
     "output_type": "execute_result"
    }
   ],
   "source": [
    "alt.Chart(top_hoods.reset_index()).mark_bar().encode(\n",
    "    x=\"in_firezone:Q\",\n",
    "    y=alt.Y(\n",
    "        \"neighborhood:N\",\n",
    "        sort=alt.EncodingSortField(field=\"in_firezone\", op=\"sum\", order=\"descending\")\n",
    "    )\n",
    ")"
   ]
  },
  {
   "cell_type": "markdown",
   "metadata": {},
   "source": [
    "How many neighborhoods have 1,000 or more?"
   ]
  },
  {
   "cell_type": "code",
   "execution_count": 52,
   "metadata": {},
   "outputs": [
    {
     "data": {
      "text/plain": [
       "30"
      ]
     },
     "execution_count": 52,
     "metadata": {},
     "output_type": "execute_result"
    }
   ],
   "source": [
    "len(hood_pivot[hood_pivot.in_firezone >= 1000])"
   ]
  },
  {
   "cell_type": "markdown",
   "metadata": {},
   "source": [
    "### Merge grids\n",
    "\n",
    "Group our building points into grids that segment that state by running [merge-grids.ipynb](src/merge-grids.ipynb)."
   ]
  },
  {
   "cell_type": "code",
   "execution_count": 33,
   "metadata": {},
   "outputs": [],
   "source": [
    "%%capture\n",
    "%run src/merge-grids.ipynb"
   ]
  },
  {
   "cell_type": "markdown",
   "metadata": {},
   "source": [
    "### Analyze grids\n",
    "\n",
    "Calculate the number of at-risk buildings in each grid segment by running [analyze-grids.ipynb](src/analyze-grids.ipynb)."
   ]
  },
  {
   "cell_type": "code",
   "execution_count": null,
   "metadata": {},
   "outputs": [],
   "source": [
    "%%capture\n",
    "%run src/analyze-grids.ipynb"
   ]
  }
 ],
 "metadata": {
  "kernelspec": {
   "display_name": "Python 3",
   "language": "python",
   "name": "python3"
  },
  "language_info": {
   "codemirror_mode": {
    "name": "ipython",
    "version": 3
   },
   "file_extension": ".py",
   "mimetype": "text/x-python",
   "name": "python",
   "nbconvert_exporter": "python",
   "pygments_lexer": "ipython3",
   "version": "3.6.5"
  }
 },
 "nbformat": 4,
 "nbformat_minor": 2
}
