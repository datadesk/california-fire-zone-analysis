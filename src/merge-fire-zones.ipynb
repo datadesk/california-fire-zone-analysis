{
 "cells": [
  {
   "cell_type": "markdown",
   "metadata": {},
   "source": [
    "# Merge fire zones\n",
    "\n",
    "Join the buildings to \"very severe\" fire zones mapped by government scientists."
   ]
  },
  {
   "cell_type": "code",
   "execution_count": 1,
   "metadata": {},
   "outputs": [],
   "source": [
    "import os\n",
    "import glob\n",
    "import geopandas as gpd"
   ]
  },
  {
   "cell_type": "code",
   "execution_count": 2,
   "metadata": {},
   "outputs": [],
   "source": [
    "%store -r"
   ]
  },
  {
   "cell_type": "code",
   "execution_count": 3,
   "metadata": {},
   "outputs": [],
   "source": [
    "fire_zones = gpd.read_file(os.path.join(input_dir, \"hazard_zones\", \"very-severe.shp\"))"
   ]
  },
  {
   "cell_type": "code",
   "execution_count": 5,
   "metadata": {},
   "outputs": [
    {
     "data": {
      "text/plain": [
       "{'init': 'epsg:4326'}"
      ]
     },
     "execution_count": 5,
     "metadata": {},
     "output_type": "execute_result"
    }
   ],
   "source": [
    "fire_zones.crs"
   ]
  },
  {
   "cell_type": "code",
   "execution_count": 4,
   "metadata": {},
   "outputs": [
    {
     "data": {
      "text/plain": [
       "8919"
      ]
     },
     "execution_count": 4,
     "metadata": {},
     "output_type": "execute_result"
    }
   ],
   "source": [
    "len(fire_zones)"
   ]
  },
  {
   "cell_type": "code",
   "execution_count": 73,
   "metadata": {},
   "outputs": [],
   "source": [
    "def sjoin_batch(points_path, verbose=False):\n",
    "    \"\"\"\n",
    "    Reads in a batch of buildings and returns then with a column that indicates if they fall within a fire zone.\n",
    "    \"\"\"\n",
    "    # Set the path\n",
    "    number = points_path.split(\"-batch-\")[1].replace(\".shp\", \"\")\n",
    "    outpath = os.path.join(output_dir, f\"california-building-points-batch-{number}-to-fire-zones.csv\")\n",
    "\n",
    "    # Skip if it already exists\n",
    "    if os.path.exists(outpath):\n",
    "        if verbose:\n",
    "            print(f\"Skipping batch {number}\")\n",
    "        return\n",
    "    \n",
    "    # Read in the file\n",
    "    points = gpd.read_file(points_path)\n",
    "    \n",
    "    # Run a spatial join against the fire zones\n",
    "    sjoin = gpd.sjoin(points, fire_zones, how=\"inner\", op='intersects')\n",
    "    \n",
    "    # Mark the ones that are in a fire zone\n",
    "    points['in_fire_zone'] = points.FID.isin(sjoin.FID)\n",
    "    points['in_lra_zone'] = points.FID.isin(sjoin[sjoin.SRA == 'LRA'].FID)\n",
    "    points['in_sra_zone'] = points.FID.isin(sjoin[sjoin.SRA == 'SRA'].FID)\n",
    "    \n",
    "    def create_combined_field(row):\n",
    "        if row.in_lra_zone:\n",
    "            return 'LRA'\n",
    "        elif row.in_sra_zone:\n",
    "            return 'SRA'\n",
    "        else:\n",
    "            return gpd.pd.np.NaN\n",
    "    points['fire_zone_type'] = points.apply(create_combined_field, axis=1)\n",
    "\n",
    "    # Log the hits, if you've been asked to.\n",
    "    if verbose:\n",
    "        hits = points[points['in_fire_zone'] == True]\n",
    "        print(f\"{len(hits):,}/{len(points):,} hits in {points_path}.\")\n",
    "    \n",
    "    # Save the file\n",
    "    if verbose:\n",
    "        print(f\"Creating {outpath}\")\n",
    "    trimmed_points = points[[\n",
    "        'FID',\n",
    "        'fire_zone_type'\n",
    "    ]]\n",
    "    trimmed_points.to_csv(outpath, index=False)"
   ]
  },
  {
   "cell_type": "code",
   "execution_count": 74,
   "metadata": {},
   "outputs": [],
   "source": [
    "path_list = sorted(\n",
    "    glob.glob(os.path.join(output_dir, \"california-building-points-batch-*.shp\")),\n",
    "    key=lambda x: int(x.split(\"-batch-\")[1].replace(\".shp\", \"\"))\n",
    ")"
   ]
  },
  {
   "cell_type": "code",
   "execution_count": 75,
   "metadata": {},
   "outputs": [
    {
     "data": {
      "text/plain": [
       "1099"
      ]
     },
     "execution_count": 75,
     "metadata": {},
     "output_type": "execute_result"
    }
   ],
   "source": [
    "len(path_list)"
   ]
  },
  {
   "cell_type": "code",
   "execution_count": 76,
   "metadata": {},
   "outputs": [
    {
     "name": "stdout",
     "output_type": "stream",
     "text": [
      "Skipping batch 1\n"
     ]
    }
   ],
   "source": [
    "sjoin_batch(path_list[0], verbose=True)"
   ]
  },
  {
   "cell_type": "code",
   "execution_count": 78,
   "metadata": {},
   "outputs": [],
   "source": [
    "for p in path_list: sjoin_batch(p)"
   ]
  },
  {
   "cell_type": "code",
   "execution_count": 81,
   "metadata": {},
   "outputs": [],
   "source": [
    "csv_list = glob.glob(os.path.join(output_dir, \"california-building-points-batch-*-to-fire-zones.csv\"))"
   ]
  },
  {
   "cell_type": "code",
   "execution_count": 82,
   "metadata": {},
   "outputs": [],
   "source": [
    "csv_df = gpd.pd.concat([gpd.pd.read_csv(f) for f in csv_list])"
   ]
  },
  {
   "cell_type": "code",
   "execution_count": 84,
   "metadata": {},
   "outputs": [
    {
     "data": {
      "text/plain": [
       "10988525"
      ]
     },
     "execution_count": 84,
     "metadata": {},
     "output_type": "execute_result"
    }
   ],
   "source": [
    "len(csv_df)"
   ]
  },
  {
   "cell_type": "code",
   "execution_count": 85,
   "metadata": {},
   "outputs": [],
   "source": [
    "csv_df.to_csv(os.path.join(output_dir, \"california-building-points-to-fire-zones.csv\"), index=False)"
   ]
  }
 ],
 "metadata": {
  "kernelspec": {
   "display_name": "Python 3",
   "language": "python",
   "name": "python3"
  },
  "language_info": {
   "codemirror_mode": {
    "name": "ipython",
    "version": 3
   },
   "file_extension": ".py",
   "mimetype": "text/x-python",
   "name": "python",
   "nbconvert_exporter": "python",
   "pygments_lexer": "ipython3",
   "version": "3.6.4"
  }
 },
 "nbformat": 4,
 "nbformat_minor": 2
}
