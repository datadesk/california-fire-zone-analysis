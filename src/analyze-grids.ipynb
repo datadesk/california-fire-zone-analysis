{
 "cells": [
  {
   "cell_type": "code",
   "execution_count": 1,
   "metadata": {},
   "outputs": [],
   "source": [
    "import os\n",
    "import geopandas as gpd"
   ]
  },
  {
   "cell_type": "code",
   "execution_count": 2,
   "metadata": {},
   "outputs": [],
   "source": [
    "%store -r"
   ]
  },
  {
   "cell_type": "code",
   "execution_count": 3,
   "metadata": {},
   "outputs": [],
   "source": [
    "connex_big = gpd.pd.read_csv(os.path.join(output_dir, 'california-building-points-to-big-hexes.csv'))"
   ]
  },
  {
   "cell_type": "code",
   "execution_count": 4,
   "metadata": {},
   "outputs": [],
   "source": [
    "connex_small = gpd.pd.read_csv(os.path.join(output_dir, 'california-building-points-to-small-hexes.csv'))"
   ]
  },
  {
   "cell_type": "code",
   "execution_count": 5,
   "metadata": {},
   "outputs": [
    {
     "data": {
      "text/plain": [
       "(10988525, 10988525)"
      ]
     },
     "execution_count": 5,
     "metadata": {},
     "output_type": "execute_result"
    }
   ],
   "source": [
    "len(connex_big), len(connex_small)"
   ]
  },
  {
   "cell_type": "code",
   "execution_count": 10,
   "metadata": {},
   "outputs": [],
   "source": [
    "hexes_big = gpd.read_file(os.path.join(output_dir, 'hexes-big.shp'))"
   ]
  },
  {
   "cell_type": "code",
   "execution_count": 11,
   "metadata": {},
   "outputs": [],
   "source": [
    "hexes_small = gpd.read_file(os.path.join(output_dir, 'hexes-small.shp'))"
   ]
  },
  {
   "cell_type": "code",
   "execution_count": 12,
   "metadata": {},
   "outputs": [
    {
     "data": {
      "text/plain": [
       "(6700, 17622)"
      ]
     },
     "execution_count": 12,
     "metadata": {},
     "output_type": "execute_result"
    }
   ],
   "source": [
    "len(hexes_big), len(hexes_small)"
   ]
  },
  {
   "cell_type": "code",
   "execution_count": 14,
   "metadata": {},
   "outputs": [],
   "source": [
    "points = gpd.pd.read_csv(os.path.join(output_dir, \"buildings-points-with-analysis.csv\"))"
   ]
  },
  {
   "cell_type": "code",
   "execution_count": 19,
   "metadata": {},
   "outputs": [
    {
     "data": {
      "text/plain": [
       "10988525"
      ]
     },
     "execution_count": 19,
     "metadata": {},
     "output_type": "execute_result"
    }
   ],
   "source": [
    "len(points)"
   ]
  },
  {
   "cell_type": "code",
   "execution_count": 17,
   "metadata": {},
   "outputs": [],
   "source": [
    "merged_points_big = points.merge(connex_big, on=\"FID\", how=\"inner\")"
   ]
  },
  {
   "cell_type": "code",
   "execution_count": 18,
   "metadata": {},
   "outputs": [],
   "source": [
    "merged_points_small = points.merge(connex_small, on=\"FID\", how=\"inner\")"
   ]
  },
  {
   "cell_type": "code",
   "execution_count": 20,
   "metadata": {},
   "outputs": [
    {
     "data": {
      "text/plain": [
       "(10988525, 10988525)"
      ]
     },
     "execution_count": 20,
     "metadata": {},
     "output_type": "execute_result"
    }
   ],
   "source": [
    "len(merged_points_big), len(merged_points_small)"
   ]
  },
  {
   "cell_type": "code",
   "execution_count": 23,
   "metadata": {},
   "outputs": [],
   "source": [
    "filtered_points_big = merged_points_big[~gpd.pd.isnull(merged_points_big.hex_id)]"
   ]
  },
  {
   "cell_type": "code",
   "execution_count": 24,
   "metadata": {},
   "outputs": [],
   "source": [
    "filtered_points_small = merged_points_small[~gpd.pd.isnull(merged_points_small.hex_id)]"
   ]
  },
  {
   "cell_type": "code",
   "execution_count": 25,
   "metadata": {},
   "outputs": [
    {
     "name": "stderr",
     "output_type": "stream",
     "text": [
      "/home/palewire/.virtualenvs/california-fire-zone-analysis/local/lib/python3.6/site-packages/pandas/core/generic.py:4405: SettingWithCopyWarning: \n",
      "A value is trying to be set on a copy of a slice from a DataFrame.\n",
      "Try using .loc[row_indexer,col_indexer] = value instead\n",
      "\n",
      "See the caveats in the documentation: http://pandas.pydata.org/pandas-docs/stable/indexing.html#indexing-view-versus-copy\n",
      "  self[name] = value\n"
     ]
    }
   ],
   "source": [
    "filtered_points_big.hex_id = filtered_points_big.hex_id.astype(int)"
   ]
  },
  {
   "cell_type": "code",
   "execution_count": 26,
   "metadata": {},
   "outputs": [],
   "source": [
    "filtered_points_small.hex_id = filtered_points_small.hex_id.astype(int)"
   ]
  },
  {
   "cell_type": "code",
   "execution_count": 29,
   "metadata": {},
   "outputs": [
    {
     "name": "stderr",
     "output_type": "stream",
     "text": [
      "/home/palewire/.virtualenvs/california-fire-zone-analysis/local/lib/python3.6/site-packages/ipykernel_launcher.py:1: SettingWithCopyWarning: \n",
      "A value is trying to be set on a copy of a slice from a DataFrame.\n",
      "Try using .loc[row_indexer,col_indexer] = value instead\n",
      "\n",
      "See the caveats in the documentation: http://pandas.pydata.org/pandas-docs/stable/indexing.html#indexing-view-versus-copy\n",
      "  \"\"\"Entry point for launching an IPython kernel.\n"
     ]
    }
   ],
   "source": [
    "filtered_points_big['in_firezone'] = ~gpd.pd.isnull(filtered_points_big.fire_zone_type)"
   ]
  },
  {
   "cell_type": "code",
   "execution_count": 28,
   "metadata": {},
   "outputs": [
    {
     "name": "stderr",
     "output_type": "stream",
     "text": [
      "/home/palewire/.virtualenvs/california-fire-zone-analysis/local/lib/python3.6/site-packages/ipykernel_launcher.py:1: SettingWithCopyWarning: \n",
      "A value is trying to be set on a copy of a slice from a DataFrame.\n",
      "Try using .loc[row_indexer,col_indexer] = value instead\n",
      "\n",
      "See the caveats in the documentation: http://pandas.pydata.org/pandas-docs/stable/indexing.html#indexing-view-versus-copy\n",
      "  \"\"\"Entry point for launching an IPython kernel.\n"
     ]
    }
   ],
   "source": [
    "filtered_points_small['in_firezone'] = ~gpd.pd.isnull(filtered_points_small.fire_zone_type)"
   ]
  },
  {
   "cell_type": "code",
   "execution_count": 30,
   "metadata": {},
   "outputs": [],
   "source": [
    "grouped_hexes_big = filtered_points_big.groupby([\n",
    "    \"hex_id\",\n",
    "    \"in_firezone\"\n",
    "]).size().rename(\"building_count\").reset_index()"
   ]
  },
  {
   "cell_type": "code",
   "execution_count": 31,
   "metadata": {},
   "outputs": [],
   "source": [
    "grouped_hexes_small = filtered_points_small.groupby([\n",
    "    \"hex_id\",\n",
    "    \"in_firezone\"\n",
    "]).size().rename(\"building_count\").reset_index()"
   ]
  },
  {
   "cell_type": "code",
   "execution_count": 32,
   "metadata": {},
   "outputs": [],
   "source": [
    "pivoted_hexes_big = grouped_hexes_big.pivot(\n",
    "    index=\"hex_id\",\n",
    "    columns=\"in_firezone\",\n",
    "    values=\"building_count\"\n",
    ").reset_index().rename(columns={True: \"in_zone\", False: \"out_zone\"}).fillna(0)"
   ]
  },
  {
   "cell_type": "code",
   "execution_count": 33,
   "metadata": {},
   "outputs": [],
   "source": [
    "pivoted_hexes_small = grouped_hexes_small.pivot(\n",
    "    index=\"hex_id\",\n",
    "    columns=\"in_firezone\",\n",
    "    values=\"building_count\"\n",
    ").reset_index().rename(columns={True: \"in_zone\", False: \"out_zone\"}).fillna(0)"
   ]
  },
  {
   "cell_type": "code",
   "execution_count": 34,
   "metadata": {},
   "outputs": [],
   "source": [
    "pivoted_hexes_big['total'] = pivoted_hexes_big.in_zone + pivoted_hexes_big.out_zone"
   ]
  },
  {
   "cell_type": "code",
   "execution_count": 35,
   "metadata": {},
   "outputs": [],
   "source": [
    "pivoted_hexes_small['total'] = pivoted_hexes_small.in_zone + pivoted_hexes_small.out_zone"
   ]
  },
  {
   "cell_type": "code",
   "execution_count": 36,
   "metadata": {},
   "outputs": [],
   "source": [
    "pivoted_hexes_big['in_pct'] = pivoted_hexes_big.in_zone / pivoted_hexes_big.total"
   ]
  },
  {
   "cell_type": "code",
   "execution_count": 37,
   "metadata": {},
   "outputs": [],
   "source": [
    "pivoted_hexes_small['in_pct'] = pivoted_hexes_small.in_zone / pivoted_hexes_small.total"
   ]
  },
  {
   "cell_type": "code",
   "execution_count": 38,
   "metadata": {},
   "outputs": [],
   "source": [
    "merged_hexes_big = hexes_big.merge(pivoted_hexes_big, on=\"hex_id\")"
   ]
  },
  {
   "cell_type": "code",
   "execution_count": 39,
   "metadata": {},
   "outputs": [],
   "source": [
    "merged_hexes_small = hexes_small.merge(pivoted_hexes_small, on=\"hex_id\")"
   ]
  },
  {
   "cell_type": "code",
   "execution_count": 55,
   "metadata": {},
   "outputs": [],
   "source": [
    "state = gpd.read_file(os.path.join(input_dir, \"state\", \"state.shp\"))[['geometry']]"
   ]
  },
  {
   "cell_type": "code",
   "execution_count": 57,
   "metadata": {},
   "outputs": [],
   "source": [
    "hexes_clipped_big = gpd.overlay(merged_hexes_big, state, how='intersection')"
   ]
  },
  {
   "cell_type": "code",
   "execution_count": 58,
   "metadata": {},
   "outputs": [],
   "source": [
    "hexes_clipped_small = gpd.overlay(merged_hexes_small, state, how='intersection')"
   ]
  },
  {
   "cell_type": "code",
   "execution_count": 60,
   "metadata": {},
   "outputs": [
    {
     "data": {
      "text/html": [
       "<div>\n",
       "<style scoped>\n",
       "    .dataframe tbody tr th:only-of-type {\n",
       "        vertical-align: middle;\n",
       "    }\n",
       "\n",
       "    .dataframe tbody tr th {\n",
       "        vertical-align: top;\n",
       "    }\n",
       "\n",
       "    .dataframe thead th {\n",
       "        text-align: right;\n",
       "    }\n",
       "</style>\n",
       "<table border=\"1\" class=\"dataframe\">\n",
       "  <thead>\n",
       "    <tr style=\"text-align: right;\">\n",
       "      <th></th>\n",
       "      <th>hex_id</th>\n",
       "      <th>out_zone</th>\n",
       "      <th>in_zone</th>\n",
       "      <th>total</th>\n",
       "      <th>in_pct</th>\n",
       "      <th>geometry</th>\n",
       "    </tr>\n",
       "  </thead>\n",
       "  <tbody>\n",
       "    <tr>\n",
       "      <th>0</th>\n",
       "      <td>6819</td>\n",
       "      <td>2.0</td>\n",
       "      <td>1.0</td>\n",
       "      <td>3.0</td>\n",
       "      <td>0.333333</td>\n",
       "      <td>POLYGON ((-124.3443320877625 40.2603865134873,...</td>\n",
       "    </tr>\n",
       "    <tr>\n",
       "      <th>1</th>\n",
       "      <td>6820</td>\n",
       "      <td>1.0</td>\n",
       "      <td>3.0</td>\n",
       "      <td>4.0</td>\n",
       "      <td>0.750000</td>\n",
       "      <td>POLYGON ((-124.3514615709291 40.35680263271846...</td>\n",
       "    </tr>\n",
       "    <tr>\n",
       "      <th>2</th>\n",
       "      <td>6821</td>\n",
       "      <td>11.0</td>\n",
       "      <td>0.0</td>\n",
       "      <td>11.0</td>\n",
       "      <td>0.000000</td>\n",
       "      <td>POLYGON ((-124.3883783121074 40.44340521347536...</td>\n",
       "    </tr>\n",
       "    <tr>\n",
       "      <th>3</th>\n",
       "      <td>6822</td>\n",
       "      <td>35.0</td>\n",
       "      <td>0.0</td>\n",
       "      <td>35.0</td>\n",
       "      <td>0.000000</td>\n",
       "      <td>POLYGON ((-124.3464317109737 40.52383090983665...</td>\n",
       "    </tr>\n",
       "    <tr>\n",
       "      <th>5</th>\n",
       "      <td>6935</td>\n",
       "      <td>41.0</td>\n",
       "      <td>55.0</td>\n",
       "      <td>96.0</td>\n",
       "      <td>0.572917</td>\n",
       "      <td>POLYGON ((-124.3412818462808 40.28529676365753...</td>\n",
       "    </tr>\n",
       "  </tbody>\n",
       "</table>\n",
       "</div>"
      ],
      "text/plain": [
       "   hex_id  out_zone  in_zone  total    in_pct  \\\n",
       "0    6819       2.0      1.0    3.0  0.333333   \n",
       "1    6820       1.0      3.0    4.0  0.750000   \n",
       "2    6821      11.0      0.0   11.0  0.000000   \n",
       "3    6822      35.0      0.0   35.0  0.000000   \n",
       "5    6935      41.0     55.0   96.0  0.572917   \n",
       "\n",
       "                                            geometry  \n",
       "0  POLYGON ((-124.3443320877625 40.2603865134873,...  \n",
       "1  POLYGON ((-124.3514615709291 40.35680263271846...  \n",
       "2  POLYGON ((-124.3883783121074 40.44340521347536...  \n",
       "3  POLYGON ((-124.3464317109737 40.52383090983665...  \n",
       "5  POLYGON ((-124.3412818462808 40.28529676365753...  "
      ]
     },
     "execution_count": 60,
     "metadata": {},
     "output_type": "execute_result"
    }
   ],
   "source": [
    "hexes_clipped_big.head()"
   ]
  },
  {
   "cell_type": "code",
   "execution_count": 61,
   "metadata": {},
   "outputs": [
    {
     "name": "stderr",
     "output_type": "stream",
     "text": [
      "/home/palewire/.virtualenvs/california-fire-zone-analysis/local/lib/python3.6/site-packages/geopandas/io/file.py:108: FionaDeprecationWarning: Use fiona.Env() instead.\n",
      "  with fiona.drivers():\n"
     ]
    }
   ],
   "source": [
    "hexes_clipped_big.to_file(os.path.join(output_dir, \"big-hexes-with-analysis.shp\"))"
   ]
  },
  {
   "cell_type": "code",
   "execution_count": 62,
   "metadata": {},
   "outputs": [],
   "source": [
    "hexes_clipped_small.to_file(os.path.join(output_dir, \"small-hexes-with-analysis.shp\"))"
   ]
  }
 ],
 "metadata": {
  "kernelspec": {
   "display_name": "Python 3",
   "language": "python",
   "name": "python3"
  },
  "language_info": {
   "codemirror_mode": {
    "name": "ipython",
    "version": 3
   },
   "file_extension": ".py",
   "mimetype": "text/x-python",
   "name": "python",
   "nbconvert_exporter": "python",
   "pygments_lexer": "ipython3",
   "version": "3.6.5"
  }
 },
 "nbformat": 4,
 "nbformat_minor": 2
}
