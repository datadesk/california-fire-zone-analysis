{
 "cells": [
  {
   "cell_type": "markdown",
   "metadata": {},
   "source": [
    "# Download buildings\n",
    "\n",
    "Retrieves California building footprints mapped by Microsoft."
   ]
  },
  {
   "cell_type": "code",
   "execution_count": 1,
   "metadata": {},
   "outputs": [],
   "source": [
    "import os"
   ]
  },
  {
   "cell_type": "code",
   "execution_count": 2,
   "metadata": {},
   "outputs": [],
   "source": [
    "%store -r"
   ]
  },
  {
   "cell_type": "code",
   "execution_count": 4,
   "metadata": {},
   "outputs": [],
   "source": [
    "zip_path = os.path.join(input_dir, \"California.zip\")"
   ]
  },
  {
   "cell_type": "code",
   "execution_count": 5,
   "metadata": {},
   "outputs": [],
   "source": [
    "!rm -f $zip_path"
   ]
  },
  {
   "cell_type": "code",
   "execution_count": 6,
   "metadata": {},
   "outputs": [
    {
     "name": "stdout",
     "output_type": "stream",
     "text": [
      "--2018-12-14 12:38:06--  https://usbuildingdata.blob.core.windows.net/usbuildings-v1-1/California.zip\n",
      "Resolving usbuildingdata.blob.core.windows.net (usbuildingdata.blob.core.windows.net)... 13.93.168.80\n",
      "Connecting to usbuildingdata.blob.core.windows.net (usbuildingdata.blob.core.windows.net)|13.93.168.80|:443... connected.\n",
      "HTTP request sent, awaiting response... 200 OK\n",
      "Length: 393666995 (375M) [application/octet-stream]\n",
      "Saving to: ‘/home/palewire/Code/california-fire-zone-analysis/input/California.zip’\n",
      "\n",
      "/home/palewire/Code 100%[===================>] 375.43M  2.11MB/s    in 3m 1s   \n",
      "\n",
      "2018-12-14 12:41:08 (2.07 MB/s) - ‘/home/palewire/Code/california-fire-zone-analysis/input/California.zip’ saved [393666995/393666995]\n",
      "\n"
     ]
    }
   ],
   "source": [
    "!wget -O $zip_path -nc https://usbuildingdata.blob.core.windows.net/usbuildings-v1-1/California.zip"
   ]
  },
  {
   "cell_type": "code",
   "execution_count": 7,
   "metadata": {},
   "outputs": [
    {
     "name": "stdout",
     "output_type": "stream",
     "text": [
      "Archive:  /home/palewire/Code/california-fire-zone-analysis/input/California.zip\n",
      "  inflating: /home/palewire/Code/california-fire-zone-analysis/input/California.geojson  \n"
     ]
    }
   ],
   "source": [
    "!unzip -n $zip_path -d $input_dir/"
   ]
  }
 ],
 "metadata": {
  "kernelspec": {
   "display_name": "Python 3",
   "language": "python",
   "name": "python3"
  },
  "language_info": {
   "codemirror_mode": {
    "name": "ipython",
    "version": 3
   },
   "file_extension": ".py",
   "mimetype": "text/x-python",
   "name": "python",
   "nbconvert_exporter": "python",
   "pygments_lexer": "ipython3",
   "version": "3.6.4"
  }
 },
 "nbformat": 4,
 "nbformat_minor": 2
}
