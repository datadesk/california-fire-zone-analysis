{
 "cells": [
  {
   "cell_type": "markdown",
   "metadata": {},
   "source": [
    "# Merge places\n",
    "\n",
    "Join the buildings to places defined by the U.S. Census Bureau."
   ]
  },
  {
   "cell_type": "code",
   "execution_count": 1,
   "metadata": {},
   "outputs": [],
   "source": [
    "import os\n",
    "import glob\n",
    "import geopandas as gpd"
   ]
  },
  {
   "cell_type": "code",
   "execution_count": 2,
   "metadata": {},
   "outputs": [],
   "source": [
    "%store -r"
   ]
  },
  {
   "cell_type": "code",
   "execution_count": 5,
   "metadata": {},
   "outputs": [],
   "source": [
    "places = gpd.read_file(os.path.join(input_dir, \"places\", \"tl_2018_06_place.shp\")).to_crs({'init': 'epsg:4326'})"
   ]
  },
  {
   "cell_type": "code",
   "execution_count": 6,
   "metadata": {},
   "outputs": [
    {
     "data": {
      "text/plain": [
       "{'init': 'epsg:4326'}"
      ]
     },
     "execution_count": 6,
     "metadata": {},
     "output_type": "execute_result"
    }
   ],
   "source": [
    "places.crs"
   ]
  },
  {
   "cell_type": "code",
   "execution_count": 7,
   "metadata": {},
   "outputs": [
    {
     "data": {
      "text/plain": [
       "1521"
      ]
     },
     "execution_count": 7,
     "metadata": {},
     "output_type": "execute_result"
    }
   ],
   "source": [
    "len(places)"
   ]
  },
  {
   "cell_type": "code",
   "execution_count": 39,
   "metadata": {},
   "outputs": [],
   "source": [
    "def sjoin_batch(points_path, verbose=False):\n",
    "    \"\"\"\n",
    "    Reads in a batch of buildings and returns them with a column that indicates if they fall within a Census designated place.\n",
    "    \"\"\"\n",
    "    # Set the path\n",
    "    number = points_path.split(\"-batch-\")[1].replace(\".shp\", \"\")\n",
    "    outpath = os.path.join(output_dir, f\"california-building-points-batch-{number}-to-places.csv\")\n",
    "    \n",
    "    # Skip if it already exists\n",
    "    if os.path.exists(outpath):\n",
    "        if verbose:\n",
    "            print(f\"Skipping batch {number}\")\n",
    "        return\n",
    "        \n",
    "    # Read in the file\n",
    "    points = gpd.read_file(points_path)\n",
    "    \n",
    "    # Run a spatial join against the fire zones\n",
    "    sjoin = gpd.sjoin(points, places, how=\"left\", op=\"intersects\")\n",
    "    \n",
    "    if verbose:\n",
    "        print(f\"{len(sjoin[~gpd.pd.isnull(sjoin.NAME)])}/{len(sjoin)} from {points_path} in a CDP\")\n",
    "    \n",
    "    # Save the file\n",
    "    if verbose:\n",
    "        print(f\"Creating {outpath}\")\n",
    "    trimmed = sjoin[[\n",
    "        'FID',\n",
    "        'PLACEFP',\n",
    "        'NAMELSAD',\n",
    "    ]]\n",
    "    trimmed.to_csv(outpath, index=False)"
   ]
  },
  {
   "cell_type": "code",
   "execution_count": 40,
   "metadata": {},
   "outputs": [],
   "source": [
    "path_list = sorted(\n",
    "    glob.glob(os.path.join(output_dir, \"california-building-points-batch-*.shp\")),\n",
    "    key=lambda x: int(x.split(\"-batch-\")[1].replace(\".shp\", \"\"))\n",
    ")"
   ]
  },
  {
   "cell_type": "code",
   "execution_count": 41,
   "metadata": {},
   "outputs": [
    {
     "data": {
      "text/plain": [
       "1099"
      ]
     },
     "execution_count": 41,
     "metadata": {},
     "output_type": "execute_result"
    }
   ],
   "source": [
    "len(path_list)"
   ]
  },
  {
   "cell_type": "code",
   "execution_count": 42,
   "metadata": {},
   "outputs": [
    {
     "name": "stdout",
     "output_type": "stream",
     "text": [
      "Skipping batch 1\n"
     ]
    }
   ],
   "source": [
    "sjoin_batch(path_list[0], verbose=True)"
   ]
  },
  {
   "cell_type": "code",
   "execution_count": 43,
   "metadata": {},
   "outputs": [],
   "source": [
    "for p in path_list: sjoin_batch(p)"
   ]
  },
  {
   "cell_type": "code",
   "execution_count": 44,
   "metadata": {},
   "outputs": [],
   "source": [
    "csv_list = glob.glob(os.path.join(output_dir, \"california-building-points-batch-*-to-places.csv\"))"
   ]
  },
  {
   "cell_type": "code",
   "execution_count": 46,
   "metadata": {},
   "outputs": [],
   "source": [
    "csv_df = gpd.pd.concat([gpd.pd.read_csv(f) for f in csv_list])"
   ]
  },
  {
   "cell_type": "code",
   "execution_count": 48,
   "metadata": {},
   "outputs": [
    {
     "data": {
      "text/plain": [
       "10988525"
      ]
     },
     "execution_count": 48,
     "metadata": {},
     "output_type": "execute_result"
    }
   ],
   "source": [
    "len(csv_df)"
   ]
  },
  {
   "cell_type": "code",
   "execution_count": 49,
   "metadata": {},
   "outputs": [],
   "source": [
    "csv_df.to_csv(os.path.join(output_dir, \"california-building-points-to-places.csv\"), index=False)"
   ]
  }
 ],
 "metadata": {
  "kernelspec": {
   "display_name": "Python 3",
   "language": "python",
   "name": "python3"
  },
  "language_info": {
   "codemirror_mode": {
    "name": "ipython",
    "version": 3
   },
   "file_extension": ".py",
   "mimetype": "text/x-python",
   "name": "python",
   "nbconvert_exporter": "python",
   "pygments_lexer": "ipython3",
   "version": "3.6.5"
  }
 },
 "nbformat": 4,
 "nbformat_minor": 2
}
