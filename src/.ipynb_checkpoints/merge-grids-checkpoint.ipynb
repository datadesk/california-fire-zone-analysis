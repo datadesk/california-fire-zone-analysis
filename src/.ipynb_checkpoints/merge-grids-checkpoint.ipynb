{
 "cells": [
  {
   "cell_type": "markdown",
   "metadata": {},
   "source": [
    "### Merge grids\n",
    "\n",
    "Group our building points into grids that segment that state."
   ]
  },
  {
   "cell_type": "code",
   "execution_count": 1,
   "metadata": {},
   "outputs": [],
   "source": [
    "import os\n",
    "import glob\n",
    "import geopandas as gpd"
   ]
  },
  {
   "cell_type": "code",
   "execution_count": 2,
   "metadata": {},
   "outputs": [],
   "source": [
    "%store -r"
   ]
  },
  {
   "cell_type": "code",
   "execution_count": 9,
   "metadata": {},
   "outputs": [],
   "source": [
    "hexes_big = gpd.read_file(os.path.join(input_dir, \"grids\", \"grid-x075.shp\"))"
   ]
  },
  {
   "cell_type": "code",
   "execution_count": 8,
   "metadata": {},
   "outputs": [],
   "source": [
    "hexes_small = gpd.read_file(os.path.join(input_dir, \"grids\", \"grid-x05.shp\"))"
   ]
  },
  {
   "cell_type": "code",
   "execution_count": 3,
   "metadata": {},
   "outputs": [],
   "source": [
    "cali = gpd.read_file(os.path.join(input_dir, \"state\", \"state.shp\"))"
   ]
  },
  {
   "cell_type": "code",
   "execution_count": 5,
   "metadata": {},
   "outputs": [],
   "source": [
    "cali['geometry'] = cali.buffer(0.1)"
   ]
  },
  {
   "cell_type": "code",
   "execution_count": 6,
   "metadata": {},
   "outputs": [],
   "source": [
    "def cali_filter(df):\n",
    "    \"\"\"\n",
    "    Clips the provided geodataframe at the California border.\n",
    "    \"\"\"\n",
    "    return df[df.within(cali.ix[0].geometry)]"
   ]
  },
  {
   "cell_type": "code",
   "execution_count": 10,
   "metadata": {},
   "outputs": [
    {
     "name": "stderr",
     "output_type": "stream",
     "text": [
      "/home/palewire/.virtualenvs/california-fire-zone-analysis/local/lib/python3.6/site-packages/ipykernel_launcher.py:5: DeprecationWarning: \n",
      ".ix is deprecated. Please use\n",
      ".loc for label based indexing or\n",
      ".iloc for positional indexing\n",
      "\n",
      "See the documentation here:\n",
      "http://pandas.pydata.org/pandas-docs/stable/indexing.html#ix-indexer-is-deprecated\n",
      "  \"\"\"\n"
     ]
    }
   ],
   "source": [
    "hexes_big_filtered = cali_filter(hexes_big)"
   ]
  },
  {
   "cell_type": "code",
   "execution_count": 11,
   "metadata": {},
   "outputs": [
    {
     "name": "stderr",
     "output_type": "stream",
     "text": [
      "/home/palewire/.virtualenvs/california-fire-zone-analysis/local/lib/python3.6/site-packages/ipykernel_launcher.py:5: DeprecationWarning: \n",
      ".ix is deprecated. Please use\n",
      ".loc for label based indexing or\n",
      ".iloc for positional indexing\n",
      "\n",
      "See the documentation here:\n",
      "http://pandas.pydata.org/pandas-docs/stable/indexing.html#ix-indexer-is-deprecated\n",
      "  \"\"\"\n"
     ]
    }
   ],
   "source": [
    "hexes_small_filtered = cali_filter(hexes_small)"
   ]
  },
  {
   "cell_type": "code",
   "execution_count": 43,
   "metadata": {},
   "outputs": [],
   "source": [
    "def set_id(df):\n",
    "    \"\"\"\n",
    "    Create a unique identifier for each grid.\n",
    "    \"\"\"\n",
    "    return df.reset_index().rename(columns={\"index\": \"hex_id\"})"
   ]
  },
  {
   "cell_type": "code",
   "execution_count": 44,
   "metadata": {},
   "outputs": [],
   "source": [
    "hexes_big_tagged = set_id(hexes_big_filtered)"
   ]
  },
  {
   "cell_type": "code",
   "execution_count": 45,
   "metadata": {},
   "outputs": [],
   "source": [
    "hexes_small_tagged = set_id(hexes_small_filtered)"
   ]
  },
  {
   "cell_type": "code",
   "execution_count": 46,
   "metadata": {},
   "outputs": [],
   "source": [
    "def trim(df):\n",
    "    \"\"\"\n",
    "    Trims down the columns.\n",
    "    \"\"\"\n",
    "    return df[[\n",
    "        'hex_id',\n",
    "        'geometry'\n",
    "    ]]"
   ]
  },
  {
   "cell_type": "code",
   "execution_count": 47,
   "metadata": {},
   "outputs": [],
   "source": [
    "hexes_big_trimmed = trim(hexes_big_tagged)"
   ]
  },
  {
   "cell_type": "code",
   "execution_count": 48,
   "metadata": {},
   "outputs": [],
   "source": [
    "hexes_small_trimmed = trim(hexes_small_tagged)"
   ]
  },
  {
   "cell_type": "code",
   "execution_count": 66,
   "metadata": {},
   "outputs": [],
   "source": [
    "def sjoin_batch(points_path, verbose=False):\n",
    "    \"\"\"\n",
    "    Reads in a batch of buildings and returns them with a column that indicates if they fall within a grid\n",
    "    \"\"\"\n",
    "    number = points_path.split(\"-batch-\")[1].replace(\".shp\", \"\")\n",
    "    outpath_big = f\"{output_dir}/california_big_hex_points_batch_{number}.csv\"\n",
    "    outpath_small = f\"{output_dir}/california_small_hex_points_batch_{number}.csv\"\n",
    "    if os.path.exists(outpath_big) and os.path.exists(outpath_small):\n",
    "        if verbose:\n",
    "            print(f\"Skipping {number}\")\n",
    "        return\n",
    "    \n",
    "    # Read in the file\n",
    "    try:\n",
    "        print(f\"Opening {points_path}\")\n",
    "        points = gpd.read_file(points_path)\n",
    "    except:\n",
    "        return\n",
    "    \n",
    "    # Run a spatial join against the fire zones\n",
    "    sjoin_big = gpd.sjoin(points, hexes_big_trimmed, how=\"left\", op=\"intersects\")\n",
    "    sjoin_small = gpd.sjoin(points, hexes_small_trimmed, how=\"left\", op=\"intersects\")\n",
    "    \n",
    "    if verbose:\n",
    "        print(f\"{len(sjoin_big[~gpd.pd.isnull(sjoin_big.hex_id)])}/{len(sjoin_big)} from {points_path} in a big hex\")\n",
    "        print(f\"{len(sjoin_small[~gpd.pd.isnull(sjoin_small.hex_id)])}/{len(sjoin_small)} from {points_path} in a small hex\")\n",
    "    \n",
    "    if verbose:\n",
    "        print(f\"Writing {outpath_big}\")\n",
    "    sjoin_big[[\"FID\", \"hex_id\"]].to_csv(outpath_big, index=False)\n",
    "    \n",
    "    if verbose:\n",
    "        print(f\"Writing {outpath_small}\")\n",
    "    sjoin_small[[\"FID\", \"hex_id\"]].to_csv(outpath_small, index=False)"
   ]
  },
  {
   "cell_type": "code",
   "execution_count": 67,
   "metadata": {},
   "outputs": [],
   "source": [
    "path_list = sorted(\n",
    "    glob.glob(os.path.join(output_dir, \"california-building-points-batch-*.shp\")),\n",
    "    key=lambda x: int(x.split(\"-batch-\")[1].replace(\".shp\", \"\"))\n",
    ")"
   ]
  },
  {
   "cell_type": "code",
   "execution_count": 68,
   "metadata": {},
   "outputs": [
    {
     "data": {
      "text/plain": [
       "1099"
      ]
     },
     "execution_count": 68,
     "metadata": {},
     "output_type": "execute_result"
    }
   ],
   "source": [
    "len(path_list)"
   ]
  },
  {
   "cell_type": "code",
   "execution_count": 69,
   "metadata": {},
   "outputs": [
    {
     "name": "stdout",
     "output_type": "stream",
     "text": [
      "Skipping 1\n"
     ]
    }
   ],
   "source": [
    "sjoin_batch(path_list[0], verbose=True)"
   ]
  },
  {
   "cell_type": "code",
   "execution_count": 70,
   "metadata": {},
   "outputs": [],
   "source": [
    "for p in path_list: sjoin_batch(p)"
   ]
  },
  {
   "cell_type": "code",
   "execution_count": 73,
   "metadata": {},
   "outputs": [],
   "source": [
    "def merge(pattern):\n",
    "    \"\"\"\n",
    "    Merge a set of CSVs.\n",
    "    \"\"\"\n",
    "    csv_list = glob.glob(os.path.join(output_dir, pattern))\n",
    "    return gpd.pd.concat([gpd.pd.read_csv(f) for f in csv_list])"
   ]
  },
  {
   "cell_type": "code",
   "execution_count": 74,
   "metadata": {},
   "outputs": [],
   "source": [
    "merged_big = merge('california_big_hex_points_batch_*.csv')"
   ]
  },
  {
   "cell_type": "code",
   "execution_count": 75,
   "metadata": {},
   "outputs": [],
   "source": [
    "merged_small = merge('california_small_hex_points_batch_*.csv')"
   ]
  },
  {
   "cell_type": "code",
   "execution_count": 78,
   "metadata": {},
   "outputs": [
    {
     "data": {
      "text/plain": [
       "(10988525, 10988525)"
      ]
     },
     "execution_count": 78,
     "metadata": {},
     "output_type": "execute_result"
    }
   ],
   "source": [
    "len(merged_big), len(merged_small)"
   ]
  },
  {
   "cell_type": "code",
   "execution_count": 76,
   "metadata": {},
   "outputs": [],
   "source": [
    "merged_big.to_csv(os.path.join(output_dir, \"california-building-points-to-big-hexes.csv\"), index=False)"
   ]
  },
  {
   "cell_type": "code",
   "execution_count": 77,
   "metadata": {},
   "outputs": [],
   "source": [
    "merged_small.to_csv(os.path.join(output_dir, \"california-building-points-to-small-hexes.csv\"), index=False)"
   ]
  }
 ],
 "metadata": {
  "kernelspec": {
   "display_name": "Python 3",
   "language": "python",
   "name": "python3"
  },
  "language_info": {
   "codemirror_mode": {
    "name": "ipython",
    "version": 3
   },
   "file_extension": ".py",
   "mimetype": "text/x-python",
   "name": "python",
   "nbconvert_exporter": "python",
   "pygments_lexer": "ipython3",
   "version": "3.6.5"
  }
 },
 "nbformat": 4,
 "nbformat_minor": 2
}
