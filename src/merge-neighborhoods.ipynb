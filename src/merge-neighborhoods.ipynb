{
 "cells": [
  {
   "cell_type": "markdown",
   "metadata": {},
   "source": [
    "# Merge neighborhoods\n",
    "\n",
    "Join the buildings to Los Angeles neighborhoods defined by The Times' Mapping L.A. project."
   ]
  },
  {
   "cell_type": "code",
   "execution_count": 1,
   "metadata": {},
   "outputs": [],
   "source": [
    "import os\n",
    "import glob\n",
    "import geopandas as gpd"
   ]
  },
  {
   "cell_type": "code",
   "execution_count": 2,
   "metadata": {},
   "outputs": [],
   "source": [
    "%store -r"
   ]
  },
  {
   "cell_type": "code",
   "execution_count": 8,
   "metadata": {},
   "outputs": [],
   "source": [
    "hoods = gpd.read_file(os.path.join(input_dir, \"neighborhoods\", \"l.a. county neighborhood (v6).shp\")).to_crs({'init': 'epsg:4326'})"
   ]
  },
  {
   "cell_type": "code",
   "execution_count": 9,
   "metadata": {},
   "outputs": [
    {
     "data": {
      "text/plain": [
       "{'init': 'epsg:4326'}"
      ]
     },
     "execution_count": 9,
     "metadata": {},
     "output_type": "execute_result"
    }
   ],
   "source": [
    "hoods.crs"
   ]
  },
  {
   "cell_type": "code",
   "execution_count": 10,
   "metadata": {},
   "outputs": [
    {
     "data": {
      "text/plain": [
       "318"
      ]
     },
     "execution_count": 10,
     "metadata": {},
     "output_type": "execute_result"
    }
   ],
   "source": [
    "len(hoods)"
   ]
  },
  {
   "cell_type": "code",
   "execution_count": 11,
   "metadata": {},
   "outputs": [],
   "source": [
    "la = hoods[hoods['type'] == 'segment-of-a-city']"
   ]
  },
  {
   "cell_type": "code",
   "execution_count": 12,
   "metadata": {},
   "outputs": [
    {
     "data": {
      "text/plain": [
       "114"
      ]
     },
     "execution_count": 12,
     "metadata": {},
     "output_type": "execute_result"
    }
   ],
   "source": [
    "len(la)"
   ]
  },
  {
   "cell_type": "code",
   "execution_count": 34,
   "metadata": {},
   "outputs": [],
   "source": [
    "def sjoin_batch(points_path, verbose=False):\n",
    "    \"\"\"\n",
    "    Reads in a batch of buildings and returns them with a column that indicates if they fall within an LA Times neighborhood.\n",
    "    \"\"\"\n",
    "    # Set the path\n",
    "    number = points_path.split(\"-batch-\")[1].replace(\".shp\", \"\")\n",
    "    outpath = os.path.join(output_dir, f\"california-building-points-batch-{number}-to-neighborhoods.csv\")\n",
    "    \n",
    "    # Skip if it already exists\n",
    "    if os.path.exists(outpath):\n",
    "        if verbose:\n",
    "            print(f\"Skipping batch {number}\")\n",
    "        return\n",
    "        \n",
    "    # Read in the file\n",
    "    points = gpd.read_file(points_path)\n",
    "    \n",
    "    # Run a spatial join against the fire zones\n",
    "    sjoin = gpd.sjoin(points, la, how=\"left\", op=\"intersects\")\n",
    "    \n",
    "    if verbose:\n",
    "        print(f\"{len(sjoin[~gpd.pd.isnull(sjoin.name)])}/{len(sjoin)} from {points_path} in an LA hood\")\n",
    "    \n",
    "    # Save the file\n",
    "    if verbose:\n",
    "        print(f\"Creating {outpath}\")\n",
    "    trimmed = sjoin[[\n",
    "        'FID',\n",
    "        'name',\n",
    "    ]].rename(columns={\"name\": \"neighborhood\"})\n",
    "    trimmed.to_csv(outpath, index=False)"
   ]
  },
  {
   "cell_type": "code",
   "execution_count": 35,
   "metadata": {},
   "outputs": [],
   "source": [
    "path_list = sorted(\n",
    "    glob.glob(os.path.join(output_dir, \"california-building-points-batch-*.shp\")),\n",
    "    key=lambda x: int(x.split(\"-batch-\")[1].replace(\".shp\", \"\"))\n",
    ")"
   ]
  },
  {
   "cell_type": "code",
   "execution_count": 36,
   "metadata": {},
   "outputs": [
    {
     "data": {
      "text/plain": [
       "1099"
      ]
     },
     "execution_count": 36,
     "metadata": {},
     "output_type": "execute_result"
    }
   ],
   "source": [
    "len(path_list)"
   ]
  },
  {
   "cell_type": "code",
   "execution_count": 37,
   "metadata": {},
   "outputs": [
    {
     "name": "stdout",
     "output_type": "stream",
     "text": [
      "403/10000 from /media/palewire/Passport/california-fire-zone-analysis/output/california-building-points-batch-1.shp in an LA hood\n",
      "Creating /media/palewire/Passport/california-fire-zone-analysis/output/california-building-points-batch-1-to-neighborhoods.csv\n"
     ]
    }
   ],
   "source": [
    "sjoin_batch(path_list[0], verbose=True)"
   ]
  },
  {
   "cell_type": "code",
   "execution_count": 45,
   "metadata": {},
   "outputs": [],
   "source": [
    "for p in path_list: sjoin_batch(p)"
   ]
  },
  {
   "cell_type": "code",
   "execution_count": 39,
   "metadata": {},
   "outputs": [],
   "source": [
    "csv_list = glob.glob(os.path.join(output_dir, \"california-building-points-batch-*-to-neighborhoods.csv\"))"
   ]
  },
  {
   "cell_type": "code",
   "execution_count": 42,
   "metadata": {},
   "outputs": [],
   "source": [
    "csv_df = gpd.pd.concat([gpd.pd.read_csv(f) for f in csv_list]).drop_duplicates(\"FID\")"
   ]
  },
  {
   "cell_type": "code",
   "execution_count": 43,
   "metadata": {},
   "outputs": [
    {
     "data": {
      "text/plain": [
       "10988525"
      ]
     },
     "execution_count": 43,
     "metadata": {},
     "output_type": "execute_result"
    }
   ],
   "source": [
    "len(csv_df)"
   ]
  },
  {
   "cell_type": "code",
   "execution_count": 44,
   "metadata": {},
   "outputs": [],
   "source": [
    "csv_df.to_csv(os.path.join(output_dir, \"california-building-points-to-neighborhoods.csv\"), index=False)"
   ]
  }
 ],
 "metadata": {
  "kernelspec": {
   "display_name": "Python 3",
   "language": "python",
   "name": "python3"
  },
  "language_info": {
   "codemirror_mode": {
    "name": "ipython",
    "version": 3
   },
   "file_extension": ".py",
   "mimetype": "text/x-python",
   "name": "python",
   "nbconvert_exporter": "python",
   "pygments_lexer": "ipython3",
   "version": "3.6.5"
  }
 },
 "nbformat": 4,
 "nbformat_minor": 2
}
